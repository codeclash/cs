{
 "cells": [
  {
   "cell_type": "code",
   "execution_count": null,
   "id": "b06628db-a05c-46e4-9370-955b7bc7b7fc",
   "metadata": {},
   "outputs": [],
   "source": [
    "import duckdb\n",
    "import pandas as pd\n",
    "pd.set_option('display.max_columns', None)\n",
    "pd.set_option(\"display.max_rows\", None)\n",
    "pd.set_option(\"display.min_rows\", 2000)"
   ]
  },
  {
   "cell_type": "code",
   "execution_count": null,
   "id": "5443c40c",
   "metadata": {},
   "outputs": [],
   "source": [
    "basepath = '01-datasets'\n",
    "cursor = duckdb.connect()"
   ]
  },
  {
   "cell_type": "code",
   "execution_count": null,
   "id": "0dc6128c",
   "metadata": {},
   "outputs": [],
   "source": [
    "fct_listings = f\"read_csv_auto('{basepath}/fct_listings.csv', delim=',', header=True)\""
   ]
  },
  {
   "cell_type": "code",
   "execution_count": null,
   "id": "d5070740-2e99-4c6d-8101-f27ab84d105b",
   "metadata": {},
   "outputs": [],
   "source": [
    "task1_sql = f\"\"\"--sql\n",
    "SELECT * \n",
    "FROM {fct_listings}\n",
    "\"\"\""
   ]
  },
  {
   "cell_type": "code",
   "execution_count": null,
   "id": "d13d8508-b337-4dff-8531-cd82b02fc274",
   "metadata": {},
   "outputs": [],
   "source": [
    "task1_result = cursor.execute(task1_sql).fetch_df()"
   ]
  },
  {
   "cell_type": "code",
   "execution_count": null,
   "id": "0517a998-b018-4a77-8b37-1dc17d66e81d",
   "metadata": {},
   "outputs": [],
   "source": [
    "# show results\n",
    "task1_result"
   ]
  }
 ],
 "metadata": {
  "kernelspec": {
   "display_name": "Python 3",
   "language": "python",
   "name": "python3"
  },
  "language_info": {
   "codemirror_mode": {
    "name": "ipython",
    "version": 3
   },
   "file_extension": ".py",
   "mimetype": "text/x-python",
   "name": "python",
   "nbconvert_exporter": "python",
   "pygments_lexer": "ipython3",
   "version": "3.9.2"
  },
  "vscode": {
   "interpreter": {
    "hash": "81794d4967e6c3204c66dcd87b604927b115b27c00565d3d43f05ba2f3a2cb0d"
   }
  }
 },
 "nbformat": 4,
 "nbformat_minor": 5
}
