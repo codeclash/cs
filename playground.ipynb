{
 "cells": [
  {
   "attachments": {},
   "cell_type": "markdown",
   "id": "7faf6e26",
   "metadata": {},
   "source": [
    "# Case Study"
   ]
  },
  {
   "cell_type": "code",
   "execution_count": null,
   "id": "6ac52e88",
   "metadata": {},
   "outputs": [],
   "source": [
    "import duckdb\n",
    "import pandas as pd\n",
    "pd.set_option('display.max_columns', None)\n",
    "pd.set_option(\"display.max_rows\", None)\n",
    "pd.set_option(\"display.min_rows\", 2000)"
   ]
  },
  {
   "attachments": {},
   "cell_type": "markdown",
   "id": "6ffb78f2",
   "metadata": {},
   "source": [
    "## Preparing the data access and tables"
   ]
  },
  {
   "cell_type": "code",
   "execution_count": null,
   "id": "5443c40c",
   "metadata": {},
   "outputs": [],
   "source": [
    "basepath = '01-datasets'\n",
    "cursor = duckdb.connect()\n",
    "dim_date = f\"read_csv_auto('{basepath}/dim_date.csv', delim=',', header=True)\"\n",
    "dim_platform = f\"read_csv_auto('{basepath}/dim_platform.csv', delim=',', header=True)\"\n",
    "dim_product_type = f\"read_csv_auto('{basepath}/dim_product_type.csv', delim=',', header=True)\"\n",
    "dim_status = f\"read_csv_auto('{basepath}/dim_status.csv', delim=',', header=True)\"\n",
    "dim_user = f\"read_csv_auto('{basepath}/dim_user.csv', delim=',', header=True)\"\n",
    "fct_listings = f\"read_csv_auto('{basepath}/fct_listings.csv', delim=',', header=True)\""
   ]
  },
  {
   "attachments": {},
   "cell_type": "markdown",
   "id": "887c9c94",
   "metadata": {},
   "source": [
    ">NOTE: if you need explicit data types for a table instead of auto inferring, you can use read_csv(...)\n",
    "\n",
    "Example:\n",
    "`xyz = f\"read_csv('{basepath}/xyz.csv', delim=',', header=True, columns={'FlightDate': 'DATE', 'UniqueCarrier': 'VARCHAR', 'OriginCityName': 'VARCHAR', 'DestCityName': 'VARCHAR'});`\n",
    "\n",
    "see data types: https://duckdb.org/docs/sql/data_types/overview"
   ]
  },
  {
   "attachments": {},
   "cell_type": "markdown",
   "id": "d78304bd",
   "metadata": {},
   "source": [
    "## Example Query"
   ]
  },
  {
   "cell_type": "code",
   "execution_count": null,
   "id": "d5070740-2e99-4c6d-8101-f27ab84d105b",
   "metadata": {},
   "outputs": [],
   "source": [
    "## define the query\n",
    "task1_sql = f\"\"\"--sql\n",
    "SELECT * \n",
    "FROM {fct_listings}\n",
    "\"\"\""
   ]
  },
  {
   "cell_type": "code",
   "execution_count": null,
   "id": "d13d8508-b337-4dff-8531-cd82b02fc274",
   "metadata": {},
   "outputs": [],
   "source": [
    "# execute the query\n",
    "task1_result = cursor.execute(task1_sql).fetch_df()\n",
    "\n",
    "# ...and show the results\n",
    "task1_result"
   ]
  },
  {
   "attachments": {},
   "cell_type": "markdown",
   "id": "064ca8fb",
   "metadata": {},
   "source": [
    "## Your work starts here"
   ]
  },
  {
   "cell_type": "code",
   "execution_count": null,
   "id": "456bda0f",
   "metadata": {},
   "outputs": [],
   "source": [
    "# ..."
   ]
  }
 ],
 "metadata": {
  "kernelspec": {
   "display_name": "Python 3",
   "language": "python",
   "name": "python3"
  },
  "language_info": {
   "codemirror_mode": {
    "name": "ipython",
    "version": 3
   },
   "file_extension": ".py",
   "mimetype": "text/x-python",
   "name": "python",
   "nbconvert_exporter": "python",
   "pygments_lexer": "ipython3",
   "version": "3.9.2"
  },
  "vscode": {
   "interpreter": {
    "hash": "81794d4967e6c3204c66dcd87b604927b115b27c00565d3d43f05ba2f3a2cb0d"
   }
  }
 },
 "nbformat": 4,
 "nbformat_minor": 5
}
